{
 "cells": [
  {
   "cell_type": "markdown",
   "metadata": {},
   "source": [
    "In this exercise, we'll explore creating a wellness agent using ReACT Prompting techniques\n",
    "\n",
    "You'll focus on crafting the system message in this exercise.  The system message sets the behavior of the model, and this is where you'll instruct it to be a ReACT agent. "
   ]
  },
  {
   "cell_type": "code",
   "execution_count": 1,
   "metadata": {},
   "outputs": [],
   "source": [
    "# Importing the library for OpenAI API\n",
    "import openai\n",
    "\n",
    "# Define OpenAI API key \n",
    "api_key = \"YOUR_API_KEY\"\n",
    "openai.api_key = api_key"
   ]
  },
  {
   "cell_type": "markdown",
   "metadata": {},
   "source": [
    "Create a user prompt that will hold the user input we'll send the agent.  Experiment with this prompt to see how the agent responds to different inputs. "
   ]
  },
  {
   "cell_type": "code",
   "execution_count": null,
   "metadata": {},
   "outputs": [],
   "source": [
    "# Creating the prompt\n",
    "user_prompt = f\" \"\n",
    "print(user_prompt)"
   ]
  },
  {
   "cell_type": "markdown",
   "metadata": {},
   "source": [
    "Now work on crafting a ReACT Prompt using this starter template.  The prompt will be long and be as detailed and specific as you can.  Feel free to create a different type of agent.  \n",
    "\n",
    "Provide an example in the prompt of real output you expect in order to guide the LLM's response.  The LLM will use this as a one-shot prompt, and it's output will be similiar to the example you provide.    "
   ]
  },
  {
   "cell_type": "code",
   "execution_count": null,
   "metadata": {},
   "outputs": [],
   "source": [
    "ReACT_prompt= \"\"\" Your goal is to ..... by interleaving thought, action, and observation steps.\n",
    "              (Thought Step) Instructions to the LLM for the thought step\n",
    "              (Action Steps) Action[Input or Data] - Describe the action and where the data or input for the action comes from.\n",
    "                             Action[Input or Data] - Describe the action and where the data or input for the action comes from.\n",
    "                             Action[Input or Data] - Describe the action and where the data or input for the action comes from.\n",
    "              (Observation Step) Describe the output or result of the action.\n",
    "              Repeat these steps N times until ... \n",
    "              Example: \n",
    "              [User Query] Provide an example user query / input\n",
    "              (Thought) An example thought  \n",
    "              Example Action [Example Data or input], \n",
    "              Example Action [Example Data or input]. \n",
    "              Example Action [Example Data or input]\n",
    "              (Example Observation) Example observation or output\"\"\""
   ]
  },
  {
   "cell_type": "code",
   "execution_count": null,
   "metadata": {},
   "outputs": [],
   "source": [
    "# Function to call the OpenAI GPT-3.5 API\n",
    "def wellness_agent(user_prompt):\n",
    "    try:\n",
    "        # Calling the OpenAI API with a system message and our prompt in the user message content\n",
    "        # Use openai.ChatCompletion.create for openai < 1.0\n",
    "        # openai.chat.completions.create for openai > 1.0\n",
    "        response = openai.ChatCompletion.create(\n",
    "          model=\"gpt-3.5-turbo\",\n",
    "          messages=[\n",
    "          {\n",
    "            \"role\": \"system\",\n",
    "            # Enter your ReACT prompt here in the content field\n",
    "            \"content\": \"\"\"\n",
    "            \n",
    "              \"\"\"\n",
    "          },\n",
    "          {\n",
    "            \"role\": \"user\",\n",
    "            \"content\": user_prompt\n",
    "          }\n",
    "          ],\n",
    "        temperature=1,\n",
    "        max_tokens=512,\n",
    "        top_p=1,\n",
    "        frequency_penalty=0,\n",
    "        presence_penalty=0\n",
    "        )\n",
    "        # The response is a JSON object containing more information than the response. We want to return only the message content\n",
    "        return response.choices[0].message.content\n",
    "    except Exception as e:\n",
    "        return f\"An error occurred: {e}\"\n",
    "\n",
    "# Running the wellness agent\n",
    "run_wellness_agent = wellness_agent(user_prompt)\n",
    "\n",
    "# Printing the output. \n",
    "print(\"Wellness Agent Response: \")\n",
    "print(run_wellness_agent)"
   ]
  }
 ],
 "metadata": {
  "kernelspec": {
   "display_name": "Python 3",
   "language": "python",
   "name": "python3"
  },
  "language_info": {
   "codemirror_mode": {
    "name": "ipython",
    "version": 3
   },
   "file_extension": ".py",
   "mimetype": "text/x-python",
   "name": "python",
   "nbconvert_exporter": "python",
   "pygments_lexer": "ipython3",
   "version": "3.11.3"
  }
 },
 "nbformat": 4,
 "nbformat_minor": 2
}
