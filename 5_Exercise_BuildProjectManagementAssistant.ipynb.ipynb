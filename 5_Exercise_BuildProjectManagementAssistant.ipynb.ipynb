{
 "cells": [
  {
   "cell_type": "markdown",
   "metadata": {},
   "source": [
    "In this exercise, you'll build a project management assistant using OpenAI API Function Calling\n",
    "A .csv file is used to simulate reading and writing from a database or project management tool API.  Follow the directions in the starter code below, and try to build the functions and function calling logic before you look at the solution on the next page! "
   ]
  },
  {
   "cell_type": "markdown",
   "metadata": {},
   "source": [
    "Import necessary libraries"
   ]
  },
  {
   "cell_type": "code",
   "execution_count": 1,
   "metadata": {},
   "outputs": [],
   "source": [
    "import openai\n",
    "import json\n",
    "import pandas as pd\n",
    "\n",
    "# OpenAI key here.\n",
    "openai.api_key = \"your key here\""
   ]
  },
  {
   "cell_type": "markdown",
   "metadata": {},
   "source": [
    "First, define the Python functions that will read and write from the project_management.csv file using Pandas dataframes. This code uses Pandas dataframes to read and write from the .csv file. \n",
    "\n",
    "We define 3 tasks our project management assistant can perform. \n",
    "\n",
    "Each function returns a JSON string as output"
   ]
  },
  {
   "cell_type": "code",
   "execution_count": 2,
   "metadata": {},
   "outputs": [],
   "source": [
    "# Load the project management data\n",
    "df = pd.read_csv('project_management.csv')\n",
    "\n",
    "def task_retrieval_and_status_updates(task_id, status, last_updated):\n",
    "    \"\"\"Retrieve and update task status\"\"\"\n",
    "    df.loc[df['Task ID'] == task_id, 'Status'] = status\n",
    "    df.loc[df['Task ID'] == task_id, 'Last Updated'] = last_updated\n",
    "    df.to_csv('project_management.csv', index=False)  # save changes to file\n",
    "    task = df.loc[df['Task ID'] == task_id]\n",
    "    return json.dumps(task.to_dict())\n",
    "\n",
    "def project_reporting_and_analytics(project_id):\n",
    "    \"\"\"Generate reports on project progress and team performance\"\"\"\n",
    "    project = df.loc[df['Project ID'] == project_id]\n",
    "    return json.dumps(project.to_dict())\n",
    "\n",
    "def resource_allocation_and_scheduling(task_id, assigned_to, time_estimate, due_date, status):\n",
    "    \"\"\"Allocate tasks based on current workloads and schedules\"\"\"\n",
    "    df.loc[df['Task ID'] == task_id, 'Assigned To'] = assigned_to\n",
    "    df.loc[df['Task ID'] == task_id, 'Time Estimate'] = time_estimate\n",
    "    df.loc[df['Task ID'] == task_id, 'Due Date'] = due_date\n",
    "    df.loc[df['Task ID'] == task_id, 'Status'] = status\n",
    "    df.to_csv('project_management.csv', index=False)  # save changes to file\n",
    "    return json.dumps(task.to_dict())"
   ]
  },
  {
   "cell_type": "markdown",
   "metadata": {},
   "source": [
    "Next, we'll build the project management assistant conversation. \n",
    "\n",
    "We'll define the messages to send to the model, including a tools dictionary that defines a list of tools, which are the functions that are available to the model to identify and parse parameters for. "
   ]
  },
  {
   "cell_type": "code",
   "execution_count": null,
   "metadata": {},
   "outputs": [],
   "source": [
    "def run_conversation():\n",
    "    messages = [\n",
    "        {\"role\": \"system\", \"content\": \"You are a project management assistant with knowledge of project statuses, task assignments, and scheduling. You can provide updates on projects, assign tasks to team members, and schedule meetings. You understand project management terminology and are capable of parsing detailed project data. Don't make assumptions about what values to plug into functions. Ask for clarification if a user request is ambiguous.\"\n",
    " },\n",
    "        {\"role\": \"user\", \"content\": \"Change the status of task 2 to completed.\"} # this prompt should call task_retrieval_and_status_updates\n",
    "    ]\n",
    "    tools= [\n",
    "        {\n",
    "            \"type\": \"function\",\n",
    "            \"function\": {\n",
    "                \"name\": \"task_retrieval_and_status_updates\",\n",
    "                \"description\": \"Retrieve and update task status\",\n",
    "                \"parameters\": {\n",
    "                    \"type\": \"object\",\n",
    "                    \"properties\": {\n",
    "                        \"task_id\": {\n",
    "                            \"type\": \"integer\",\n",
    "                            \"description\": \"The unique identifier for the task\"\n",
    "                        },\n",
    "                        \"status\": {\n",
    "                            \"type\": \"string\",\n",
    "                            \"description\": \"The new status of the task\"\n",
    "                        },\n",
    "                        \"last_updated\": {\n",
    "                            \"type\": \"string\",\n",
    "                            \"description\": \"The date of the last status update or change to the task\"\n",
    "                        }\n",
    "                    },\n",
    "                    \"required\": [\"task_id\", \"status\", \"last_updated\"]\n",
    "                }\n",
    "            }\n",
    "        },\n",
    "        {\n",
    "            \"type\": \"function\",\n",
    "            # Fill in the function definition for the project_reporting_and_analytics function\n",
    "            \"function\": {\n",
    "             \n",
    "            }\n",
    "        },\n",
    "        {\n",
    "            \"type\": \"function\",\n",
    "            # Fill in the function definition for the resource_allocation_and_scheduling function\n",
    "            \"function\": {\n",
    "         \n",
    "            }\n",
    "        }\n",
    "    ]\n",
    "    # Use openai.ChatCompletion.create for openai < 1.0\n",
    "    # openai.chat.completions.create for openai > 1.0\n",
    "    response = openai.ChatCompletion.create(\n",
    "        model=\"gpt-3.5-turbo-1106\",\n",
    "        messages=messages,\n",
    "        tools=tools,\n",
    "        tool_choice=\"auto\",  # let the model decide which tool (function) to use\n",
    "    )\n",
    "    response_message = response.choices[0].message\n",
    "    tool_calls = response_message.tool_calls # get the tool calls from the first response\n",
    "    print(tool_calls)\n",
    "    # end of first response, now we parse the response and call the functions the model identified from our tool list\n",
    "    # check if the model wanted to call a function\n",
    "    if tool_calls:\n",
    "        # list the available functions and their corresponding python functions\n",
    "        available_functions = {\n",
    "            \"task_retrieval_and_status_updates\": task_retrieval_and_status_updates,\n",
    "            \"project_reporting_and_analytics\": project_reporting_and_analytics,\n",
    "            \"resource_allocation_and_scheduling\": resource_allocation_and_scheduling,\n",
    "        }  \n",
    "        messages.append(response_message)  # extend the conversation with the first response\n",
    "        # send the info for each function call and function response to the model\n",
    "        for tool_call in tool_calls: # iterate through the tool calls in the response\n",
    "            function_name = tool_call.function.name # get the name of the function to call\n",
    "            function_to_call = available_functions[function_name]\n",
    "            function_args = json.loads(tool_call.function.arguments) \n",
    "            if function_name == 'task_retrieval_and_status_updates': # call the Python function\n",
    "                function_response = function_to_call(\n",
    "                    task_id=function_args.get(\"task_id\"),\n",
    "                    status=function_args.get(\"status\"),\n",
    "                    last_updated=function_args.get(\"last_updated\")\n",
    "                )\n",
    "            elif function_name == 'project_reporting_and_analytics':\n",
    "                # Fill in the function call for the project_reporting_and_analytics function with parameters from the function_args dictionary\n",
    "                )\n",
    "            elif function_name == 'resource_allocation_and_scheduling':\n",
    "                # Fill in the function call for the resource_allocation_and_scheduling function with parameters from the function_args dictionary\n",
    "                )\n",
    "\n",
    "            message_to_append = {\n",
    "                    \"tool_call_id\": tool_call.id, #\n",
    "                    \"role\": \"tool\",\n",
    "                    \"name\": function_name,\n",
    "                    \"content\": function_response, # send the function response to the model, it's the JSON string of the function response\n",
    "                }\n",
    "            messages.append(message_to_append)  # extend conversation with function response\n",
    "\n",
    "        # See https://gist.github.com/gaborcselle/2dc076eae23bd219ff707b954c890cd7\n",
    "        #messages[1].content = \"\" # clear the first message (parsing bug)\n",
    "        messages[1]['content'] = \"\" # clear the first message (parsing bug)\n",
    "\n",
    "        second_response = openai.ChatCompletion.create(\n",
    "            model=\"gpt-3.5-turbo-1106\",\n",
    "            messages=messages,\n",
    "        )  # get a new response from the model where it can see the function response\n",
    "        return second_response"
   ]
  },
  {
   "cell_type": "code",
   "execution_count": null,
   "metadata": {},
   "outputs": [],
   "source": [
    "print(run_conversation()) # will print the second response from the model"
   ]
  }
 ],
 "metadata": {
  "kernelspec": {
   "display_name": "Python 3",
   "language": "python",
   "name": "python3"
  },
  "language_info": {
   "codemirror_mode": {
    "name": "ipython",
    "version": 3
   },
   "file_extension": ".py",
   "mimetype": "text/x-python",
   "name": "python",
   "nbconvert_exporter": "python",
   "pygments_lexer": "ipython3",
   "version": "3.11.3"
  }
 },
 "nbformat": 4,
 "nbformat_minor": 2
}
