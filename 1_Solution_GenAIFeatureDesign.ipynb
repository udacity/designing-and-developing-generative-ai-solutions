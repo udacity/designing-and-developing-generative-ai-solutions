{
 "cells": [
  {
   "cell_type": "markdown",
   "metadata": {},
   "source": [
    "In this exercise, you are tasked with creating an application that aggregates and summarizes restaurant reviews. Users will provide the name of a restaurant and the type of cuisine, and the application will generate a summary of the most prevalent sentiments found in online reviews for that specific restaurant and cuisine type.\n",
    "\n",
    "**Solution** \n",
    "\n",
    "Develop a prompt template that guides the LLM to generate a concise, sentiment-focused summary based on user inputs: the restaurant name and the type of cuisine.\n",
    "\n",
    "This is only an example solution.  Because prompts are natural language and the model's output is variable, your prompt may be different and you'll recieve different responses. \n",
    "\n",
    "Experiment with different inputs and prompts to evaluate the model's response. "
   ]
  },
  {
   "cell_type": "markdown",
   "metadata": {},
   "source": [
    "**Understand the User Inputs**\n",
    "\n",
    "Identify the essential user inputs for this task. In this scenario, you need:\n",
    "- Restaurant Name\n",
    "- Cuisine Type\n",
    "- Can you think of others to make your prompt more specific or flexible? "
   ]
  },
  {
   "cell_type": "code",
   "execution_count": 1,
   "metadata": {},
   "outputs": [],
   "source": [
    "# Create variables to store the user inputs\n",
    "restaurant_name = \"Alinea\"\n",
    "cuisine_type = \"new american\""
   ]
  },
  {
   "cell_type": "markdown",
   "metadata": {},
   "source": [
    "**Craft the Prompt**\n",
    "\n",
    "Compose a clear, concise instruction that will direct the LLM to generate a sentiment-focused summary for the specified restaurant and cuisine.\n",
    " - The prompt should be specific enough to guide the LLM towards the desired output \n",
    " - But also flexible enough to handle a range of restaurants and cuisines."
   ]
  },
  {
   "cell_type": "code",
   "execution_count": 2,
   "metadata": {},
   "outputs": [],
   "source": [
    "prompt = \"Provide a summary of customer sentiments for Alinea, focusing on their new american dishes. Highlight key sentiments and mention any standout dishes or services. \""
   ]
  },
  {
   "cell_type": "markdown",
   "metadata": {},
   "source": [
    "**Create the Prompt Template**\n",
    "\n",
    "Design a template that integrates the user inputs into the LLM prompt.\n",
    "Use brackets {} to denote where the user inputs should be placed. This makes the template dynamic, allowing for different restaurant names and cuisine types to be inserted into the prompt."
   ]
  },
  {
   "cell_type": "code",
   "execution_count": 3,
   "metadata": {},
   "outputs": [
    {
     "name": "stdout",
     "output_type": "stream",
     "text": [
      "Provide a summary of customer sentiments for Alinea, focusing on their new american dishes. Highlight key sentiments and mention any standout dishes or services. \n"
     ]
    }
   ],
   "source": [
    "prompt_template = f\"Provide a summary of customer sentiments for {restaurant_name}, focusing on their {cuisine_type} dishes. Highlight key sentiments and mention any standout dishes or services. \"\n",
    "print(prompt_template)"
   ]
  },
  {
   "cell_type": "code",
   "execution_count": 4,
   "metadata": {},
   "outputs": [],
   "source": [
    "# Importing the necessary library for OpenAI API\n",
    "import openai\n",
    "\n",
    "# Define your OpenAI API key \n",
    "api_key = \"YOUR_API_KEY\"\n",
    "openai.api_key = api_key"
   ]
  },
  {
   "cell_type": "markdown",
   "metadata": {},
   "source": [
    "System messages describe the behavior of the AI assistant. \n",
    "\n",
    "User messages contain your prompt, or instructions for the model"
   ]
  },
  {
   "cell_type": "code",
   "execution_count": 5,
   "metadata": {},
   "outputs": [
    {
     "name": "stdout",
     "output_type": "stream",
     "text": [
      "Generated review:\n",
      "Alinea, known for its innovative and contemporary dining experience, has been receiving an overwhelming amount of positive customer sentiments for its new American dishes. Patrons have been left impressed with the restaurant's unique takes on traditional American flavors, resulting in a remarkable and memorable dining experience.\n",
      "\n",
      "One key sentiment expressed by customers is the exceptional creativity and execution of Alinea's new American dishes. Diners are raving about the innovative combinations of ingredients and the expertly crafted flavors that are both surprising and delightful. The restaurant's ability to bring out the essence of traditional American cuisine while adding its own modern twist has been widely praised.\n",
      "\n",
      "Standout dishes at Alinea include the Roasted Beet Salad with goat cheese foam and candied pecans. This dish has received rave reviews for its beautiful presentation and incredible balance of flavors. The Chef's interpretation of classic beef and potatoes with the Beef Short Rib with truffle pomme purée has also impressed many customers, who have remarked on the tenderness of the meat and the heavenly truffle-infused mash.\n",
      "\n",
      "In addition to the outstanding dishes, patrons have highlighted the impeccable service at Alinea. The staff is knowledgeable, attentive, and goes above and beyond to ensure that each guest has an unforgettable dining experience. From guiding customers through the culinary\n"
     ]
    }
   ],
   "source": [
    "# Function to call the OpenAI GPT-3.5 API\n",
    "def generate_restaurant_review(prompt_template):\n",
    "    try:\n",
    "        # Calling the OpenAI API with a system message and our prompt in the user message content\n",
    "        # Use openai.ChatCompletion.create for openai < 1.0\n",
    "        # openai.chat.completions.create for openai > 1.0\n",
    "        response = openai.ChatCompletion.create(\n",
    "          model=\"gpt-3.5-turbo\",\n",
    "          messages=[\n",
    "          {\n",
    "            \"role\": \"system\",\n",
    "            \"content\": \"You are a restaurant critic. You are writing about reviews of restaurants. \"\n",
    "          },\n",
    "          {\n",
    "            \"role\": \"user\",\n",
    "            \"content\": prompt_template\n",
    "          }\n",
    "          ],\n",
    "        temperature=1,\n",
    "        max_tokens=256,\n",
    "        top_p=1,\n",
    "        frequency_penalty=0,\n",
    "        presence_penalty=0\n",
    "        )\n",
    "        # The response is a JSON object containing more information than the generated review. We want to return only the message content\n",
    "        return response.choices[0].message.content\n",
    "    except Exception as e:\n",
    "        return f\"An error occurred: {e}\"\n",
    "\n",
    "# Generating the response from the model\n",
    "review_summary = generate_restaurant_review(prompt_template)\n",
    "\n",
    "# Printing the output. \n",
    "print(\"Generated review:\")\n",
    "print(review_summary)"
   ]
  },
  {
   "cell_type": "markdown",
   "metadata": {},
   "source": [
    "This solution generated the following response: \n",
    "\n",
    "\"Generated review:\n",
    "\n",
    "Alinea, known for its innovative and contemporary dining experience, has been receiving an overwhelming amount of positive customer sentiments for its new American dishes. Patrons have been left impressed with the restaurant's unique takes on traditional American flavors, resulting in a remarkable and memorable dining experience.\n",
    "\n",
    "One key sentiment expressed by customers is the exceptional creativity and execution of Alinea's new American dishes. Diners are raving about the innovative combinations of ingredients and the expertly crafted flavors that are both surprising and delightful. The restaurant's ability to bring out the essence of traditional American cuisine while adding its own modern twist has been widely praised.\n",
    "\n",
    "Standout dishes at Alinea include the Roasted Beet Salad with goat cheese foam and candied pecans. This dish has received rave reviews for its beautiful presentation and incredible balance of flavors. The Chef's interpretation of classic beef and potatoes with the Beef Short Rib with truffle pomme purée has also impressed many customers, who have remarked on the tenderness of the meat and the heavenly truffle-infused mash.\n",
    "\n",
    "In addition to the outstanding dishes, patrons have highlighted the impeccable service at Alinea. The staff is knowledgeable, attentive, and goes above and beyond to ensure that each guest has an unforgettable dining experience. From guiding customers through the culinary\"\n",
    "\n",
    "- The response is truncated due to max_tokens value, it limits the response of the model to 256 tokens.   "
   ]
  }
 ],
 "metadata": {
  "kernelspec": {
   "display_name": "env",
   "language": "python",
   "name": "python3"
  },
  "language_info": {
   "codemirror_mode": {
    "name": "ipython",
    "version": 3
   },
   "file_extension": ".py",
   "mimetype": "text/x-python",
   "name": "python",
   "nbconvert_exporter": "python",
   "pygments_lexer": "ipython3",
   "version": "3.11.3"
  }
 },
 "nbformat": 4,
 "nbformat_minor": 2
}
