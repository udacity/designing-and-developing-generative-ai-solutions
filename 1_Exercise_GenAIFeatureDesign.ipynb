{
 "cells": [
  {
   "cell_type": "markdown",
   "metadata": {},
   "source": [
    "In this exercise, you are tasked with creating an application that aggregates and summarizes restaurant reviews. Users will provide the name of a restaurant and the type of cuisine, and the application will generate a summary of the most prevalent sentiments found in online reviews for that specific restaurant and cuisine type.\n",
    "\n",
    "**Challenge** \n",
    "\n",
    "Develop a prompt template that guides the LLM to generate a concise, sentiment-focused summary based on user inputs: the restaurant name and the type of cuisine."
   ]
  },
  {
   "cell_type": "markdown",
   "metadata": {},
   "source": [
    "**Understand the User Inputs**\n",
    "\n",
    "Identify the essential user inputs for this task. In this scenario, you need:\n",
    "- Restaurant Name\n",
    "- Cuisine Type\n",
    "- Can you think of others to make your prompt more specific or flexible? "
   ]
  },
  {
   "cell_type": "code",
   "execution_count": null,
   "metadata": {},
   "outputs": [],
   "source": [
    "# Create variables to store the user inputs\n"
   ]
  },
  {
   "cell_type": "markdown",
   "metadata": {},
   "source": [
    "**Craft the Prompt**\n",
    "\n",
    "Compose a clear, concise instruction that will direct the LLM to generate a sentiment-focused summary for the specified restaurant and cuisine.\n",
    " - The prompt should be specific enough to guide the LLM towards the desired output \n",
    " - But also flexible enough to handle a range of restaurants and cuisines."
   ]
  },
  {
   "cell_type": "code",
   "execution_count": null,
   "metadata": {},
   "outputs": [],
   "source": [
    "prompt = \" \""
   ]
  },
  {
   "cell_type": "markdown",
   "metadata": {},
   "source": [
    "**Create the Prompt Template**\n",
    "\n",
    "Design a template that integrates the user inputs into the LLM prompt.\n",
    "Use brackets {} to denote where the user inputs should be placed. This makes the template dynamic, allowing for different restaurant names and cuisine types to be inserted into the prompt."
   ]
  },
  {
   "cell_type": "code",
   "execution_count": null,
   "metadata": {},
   "outputs": [],
   "source": [
    "prompt_template = f\" \"\n",
    "print(prompt_template)"
   ]
  },
  {
   "cell_type": "markdown",
   "metadata": {},
   "source": [
    "Now, call the OpenAI GPT-3.5 API with your prompt and see how the model responds"
   ]
  },
  {
   "cell_type": "code",
   "execution_count": null,
   "metadata": {},
   "outputs": [],
   "source": [
    "# Call the OpenAI API with your prompt and print the response"
   ]
  }
 ],
 "metadata": {
  "kernelspec": {
   "display_name": "env",
   "language": "python",
   "name": "python3"
  },
  "language_info": {
   "codemirror_mode": {
    "name": "ipython",
    "version": 3
   },
   "file_extension": ".py",
   "mimetype": "text/x-python",
   "name": "python",
   "nbconvert_exporter": "python",
   "pygments_lexer": "ipython3",
   "version": "3.11.3"
  }
 },
 "nbformat": 4,
 "nbformat_minor": 2
}
