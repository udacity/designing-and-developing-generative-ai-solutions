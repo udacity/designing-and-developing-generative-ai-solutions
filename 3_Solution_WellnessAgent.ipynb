{
 "cells": [
  {
   "cell_type": "markdown",
   "metadata": {},
   "source": [
    "In this exercise, you explored creating a wellness agent using ReACT Prompting techniques\n",
    "\n",
    "Your system message (ReACT agent instructions) will be different than the example below.  Because we're sending natural language, there is no right or wrong answer.  "
   ]
  },
  {
   "cell_type": "code",
   "execution_count": 1,
   "metadata": {},
   "outputs": [],
   "source": [
    "# Importing the library for OpenAI API\n",
    "import openai\n",
    "\n",
    "# Define OpenAI API key \n",
    "api_key = \"YOUR_API_KEY\"\n",
    "openai.api_key = api_key"
   ]
  },
  {
   "cell_type": "markdown",
   "metadata": {},
   "source": [
    "This example user prompt is related to wellness. "
   ]
  },
  {
   "cell_type": "code",
   "execution_count": 2,
   "metadata": {},
   "outputs": [
    {
     "name": "stdout",
     "output_type": "stream",
     "text": [
      "How can I know my diet is improving my wellness?\n"
     ]
    }
   ],
   "source": [
    "# Creating the prompt\n",
    "user_prompt = f\"How can I know my diet is improving my wellness?\"\n",
    "print(user_prompt)"
   ]
  },
  {
   "cell_type": "markdown",
   "metadata": {},
   "source": [
    "An example solution to a ReACT system prompt for a wellness agent: "
   ]
  },
  {
   "cell_type": "code",
   "execution_count": 3,
   "metadata": {},
   "outputs": [
    {
     "name": "stdout",
     "output_type": "stream",
     "text": [
      "Wellness Agent Response: \n",
      "(Thought) The user wants to know how to assess if their diet is improving their wellness.\n",
      "\n",
      "Collect[Data from user]: To determine if your diet is improving your wellness, it's important to gather some information. Can you provide details about your current diet? What types of foods do you typically consume? How balanced is your diet? Are there any specific wellness goals related to your diet that you have in mind?\n",
      "\n",
      "Provide[Wellness Information]: A healthy diet plays a crucial role in overall wellness. Here are some factors to consider when evaluating if your diet is improving your wellness:\n",
      "\n",
      "1. Nutrient intake: Ensure that your diet includes a wide variety of nutrients, including carbohydrates, proteins, healthy fats, vitamins, and minerals. A balanced diet will provide your body with the necessary nutrients for optimal functioning.\n",
      "\n",
      "2. Energy levels: Pay attention to how your diet affects your energy levels throughout the day. A healthy diet should provide you with sustained energy without sudden crashes or fatigue.\n",
      "\n",
      "3. Digestive health: Monitor your digestive health. A nutritious diet should support regular bowel movements, minimize digestive discomfort, and promote a healthy gut microbiome.\n",
      "\n",
      "4. Weight management: Assess whether your diet is helping you maintain a healthy weight. If weight loss or weight gain is a goal, monitor your progress and consult a healthcare professional if needed.\n",
      "\n",
      "5. Skin health: Observe if your diet is positively impacting the health of your skin. A nourishing diet can contribute to a clear complexion, improved skin elasticity, and a healthy glow.\n",
      "\n",
      "6. Overall well-being: Reflect on how your diet is affecting your overall well-being. Are you experiencing improvements in your mood, cognitive function, and general vitality? A balanced diet can have a positive impact on mental health as well.\n",
      "\n",
      "Recommend[Plan]: To determine if your diet is improving your wellness, consider the following steps:\n",
      "\n",
      "1. Keep a food diary: Track your meals and snacks for a week. Note any changes in your energy levels, digestion, or overall well-being.\n",
      "\n",
      "2. Consult a registered dietitian: A professional can provide personalized guidance specific to your circumstances and goals.\n",
      "\n",
      "3. Monitor physical changes: Pay attention to any positive changes, such as weight loss, improved skin health, or increased energy levels.\n",
      "\n",
      "4. Listen to your body: Tune in to how you feel after eating certain foods. If you notice any adverse effects or improvements, adjust your diet accordingly.\n",
      "\n",
      "Remember, everyone's dietary needs and goals are unique. It's essential to find a balance that works for you and consult with a healthcare professional for personalized advice\n"
     ]
    }
   ],
   "source": [
    "# Function to call the OpenAI GPT-3.5 API\n",
    "def wellness_agent(user_prompt):\n",
    "    try:\n",
    "        # Calling the OpenAI API with a system message and our prompt in the user message content\n",
    "        # Use openai.ChatCompletion.create for openai < 1.0\n",
    "        # openai.chat.completions.create for openai > 1.0\n",
    "        response = openai.ChatCompletion.create(\n",
    "          model=\"gpt-3.5-turbo\",\n",
    "          messages=[\n",
    "          {\n",
    "            \"role\": \"system\",\n",
    "            \"content\": \"\"\"Your goal is to improve the wellness of the user by interleaving thought, action, and observation steps.\n",
    "              (Thought Step) Begin by assessing the user's current wellness situation. Consider factors like their reported diet, exercise habits, mental health status, and any specific wellness goals they have shared.\n",
    "              (Action Steps) Collect[Data from user] - Engage with the user to gather essential wellness information, data, or metrics. This can include dietary habits, fitness routines, stress levels, sleep patterns, and wellness objectives. \n",
    "                             Provide[Wellness Information] - Based on the collected data and current wellness trends, offer knowledge and insights about nutrition, exercise regimes, mental wellness practices, and relevant biological or medical information that supports and improves wellness. \n",
    "                             Recommend[Plan] - Conclude with a tailored recommendation or a specific action plan that the user can implement to enhance their wellness. This could be a dietary change, a new exercise, a mental relaxation technique, or a suggestion to consult a healthcare professional for more personalized advice. \n",
    "              (Observation Step) Respond to the user with the Action Steps, and observe the user's response and engagement. Gauge their understanding and willingness to follow the suggestions. Be ready to offer further clarification or alternative recommendations if needed.\n",
    "              Repeat these steps N times until the user's wellness has improved.\n",
    "              Example: \n",
    "              [User Query] I'm feeling stressed and not sleeping well. What can I do to improve my sleep? \n",
    "              (Thought) User is experiencing stress and poor sleep, likely interconnected issues. \n",
    "              Collect[Details about user's current stressors and sleep habits], \n",
    "              Provide[Information on relaxation techniques and sleep hygiene practices]. \n",
    "              Recommend)[Plan] Consider trying meditation before bed and establishing a regular sleep schedule. \n",
    "              What are some current stressors in your life? How many hours of sleep do you get each night?\n",
    "              Have you tried meditation before bed? Do you have a regular sleep schedule?\n",
    "              Consider trying meditation before bed and establishing a regular sleep schedule.\n",
    "              Let's create a plan to meditate for 10 minutes before bed each night this week.\n",
    "              What are some other wellness goals you have or wellness issues you are experiencing?\n",
    "              \"\"\"\n",
    "          },\n",
    "          {\n",
    "            \"role\": \"user\",\n",
    "            \"content\": user_prompt\n",
    "          }\n",
    "          ],\n",
    "        temperature=1,\n",
    "        max_tokens=512,\n",
    "        top_p=1,\n",
    "        frequency_penalty=0,\n",
    "        presence_penalty=0\n",
    "        )\n",
    "        # The response is a JSON object containing more information than the response. We want to return only the message content\n",
    "        return response.choices[0].message.content\n",
    "    except Exception as e:\n",
    "        return f\"An error occurred: {e}\"\n",
    "\n",
    "# Running the wellness agent\n",
    "run_wellness_agent = wellness_agent(user_prompt)\n",
    "\n",
    "# Printing the output. \n",
    "print(\"Wellness Agent Response: \")\n",
    "print(run_wellness_agent)"
   ]
  }
 ],
 "metadata": {
  "kernelspec": {
   "display_name": "Python 3",
   "language": "python",
   "name": "python3"
  },
  "language_info": {
   "codemirror_mode": {
    "name": "ipython",
    "version": 3
   },
   "file_extension": ".py",
   "mimetype": "text/x-python",
   "name": "python",
   "nbconvert_exporter": "python",
   "pygments_lexer": "ipython3",
   "version": "3.11.3"
  }
 },
 "nbformat": 4,
 "nbformat_minor": 2
}
